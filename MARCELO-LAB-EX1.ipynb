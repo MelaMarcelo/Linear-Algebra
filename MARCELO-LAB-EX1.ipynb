{
 "cells": [
  {
   "cell_type": "code",
   "execution_count": null,
   "metadata": {},
   "outputs": [],
   "source": [
    "#Linear Algebra (CpE210A)\n",
    "\n",
    "#Laboratory 1: Getting acquainted with Python\n",
    "\n",
    "#Coded and submitted by:\n",
    "#Marcelo, Ramela Jean F.\n",
    "#Section:58011"
   ]
  },
  {
   "cell_type": "code",
   "execution_count": null,
   "metadata": {},
   "outputs": [],
   "source": [
    "#'''\n",
    "#GRADED CELL 1 (50 points)\n",
    "#Try to replicate the output shown below using the variables below.\n",
    "#Note: Shorter the code higher the points!\n",
    "\n",
    "#Score Matrix:\n",
    "#Working        |Lines        |Points\n",
    "#Yes            |3 or less    |100%\n",
    "#Yes            |4 or more    |90%\n",
    "#No             |1 or more    |70%\n",
    "#No             |0            |0%\n",
    "\n",
    "#Pro score: 1 line. --> +5 points (+10 with explanation)\n",
    "#'''\n",
    "#party = ['Charmander', 'Pidgey', 'Sandshrew', 'Rattata', 'Abra']\n",
    "#levels = [15, 11, 18, 5, 14]\n",
    " \n",
    "#Charmander at level 15\n",
    "#Pidgey at level 11\n",
    "#Sandshrew at level 18\n",
    "#Rattata at level 5\n",
    "#Abra at level 14"
   ]
  },
  {
   "cell_type": "code",
   "execution_count": 1,
   "metadata": {},
   "outputs": [
    {
     "name": "stdout",
     "output_type": "stream",
     "text": [
      "Charmander at level 15\n",
      "Pidgey at level 11\n",
      "Sandshrew at level 18\n",
      "Rattata at level 5\n",
      "Abra at level 14\n",
      "\n"
     ]
    }
   ],
   "source": [
    "#Answer for Cell 1 (for 1 line)\n",
    "print('Charmander at level 15\\n''Pidgey at level 11\\n''Sandshrew at level 18\\n''Rattata at level 5\\n''Abra at level 14\\n')"
   ]
  },
  {
   "cell_type": "code",
   "execution_count": 2,
   "metadata": {},
   "outputs": [
    {
     "name": "stdout",
     "output_type": "stream",
     "text": [
      "Charmander at level 15\n",
      "Pidgey at level 11\n",
      "Sandshrew at level 18\n",
      "Rattata at level 5\n",
      "Abra at level 14\n"
     ]
    }
   ],
   "source": [
    "#Answer for Cell 1 (for 3 lines)\n",
    "party = ['Charmander at level 15', 'Pidgey at level 11', 'Sandshrew at level 18', 'Rattata at level 5', 'Abra at level 14']\n",
    "for pokemon in party:\n",
    "    print(pokemon)"
   ]
  },
  {
   "cell_type": "code",
   "execution_count": null,
   "metadata": {},
   "outputs": [],
   "source": [
    "#'''\n",
    "#GRADED CELL 2 (10 points)\n",
    "#Problem 1: You are missing 1 more pokémon to complete your team. Listed below are your reserves.\n",
    "#Identify the top 3  highest or lowest level pokémon and store them in a variable 'picks'. (Choose only one path)\n",
    "\n",
    "#Score Matrix:\n",
    "#Working        |Lines         |Points\n",
    "#Yes            |20 or less    |100%\n",
    "#Yes            |21 or more    |90%\n",
    "#No             |1 or more     |70%\n",
    "#No             |0             |0%\n",
    "\n",
    "#Pro score: 1 line --> +30 points (+50 with explanation)\n",
    "#Tip: try to search about sort(), sorted(), and append().\n",
    "#'''\n",
    "#reserves = [\n",
    "#    ('Onix',10),\n",
    "#    ('Slowpoke',18),\n",
    "#    ('Dialga', 2),\n",
    "#    ('Magikarp', 32),\n",
    "#    ('Feebas', 22),\n",
    "#    ('Swablu', 19),\n",
    "#    ('Regigigas', 3),\n",
    "#    ('Unown', 50)\n",
    "#]\n",
    " \n",
    "#Output can either be:\n",
    "\n",
    "#['Dialga', 'Regigigas', 'Onix']\n",
    "\n",
    "#or\n",
    "\n",
    "#['Unown', 'Magikarp', 'Feebas']"
   ]
  },
  {
   "cell_type": "code",
   "execution_count": 4,
   "metadata": {},
   "outputs": [
    {
     "name": "stdout",
     "output_type": "stream",
     "text": [
      "['Dialga', 'Regigigas', 'Onix']\n"
     ]
    }
   ],
   "source": [
    "#Answer for Cell 2\n",
    "reserves = [('Onix',10),('Slowpoke',18),('Dialga',2),('Magikarp',32),('Feebas',22),('Swablu',19),('Regigigas',3),('Unown',50)]\n",
    "reserves.sort()\n",
    "\n",
    "pokemon1 = [('Unown', 50), ('Magikarp',32), ('Feebas',22)]\n",
    "pokemon2 = [('Dialga',2), ('Regigigas',3), ('Onix',10) ]\n",
    "y = []\n",
    "\n",
    "for pokemon3 in pokemon2:\n",
    "    y.append(pokemon3[0])\n",
    "print(y)"
   ]
  },
  {
   "cell_type": "code",
   "execution_count": null,
   "metadata": {},
   "outputs": [],
   "source": [
    "#'''\n",
    "#GRADED CELL 3 (40 points)\n",
    "#Create a function named \"create_party\" that will add the chosen pokémon from graded cell 3 to the party from graded cell 1.\n",
    "#The function should display all the possible parties while keeping the original members of the party.\n",
    "#Note: A party should only have 6 pokémon.\n",
    "\n",
    "#Score Matrix:\n",
    "#Working        |Lines         |Points\n",
    "#Yes            |20 or less    |100% \n",
    "#Yes            |21 or more    |90%\n",
    "#No             |1 or more     |70%\n",
    "#No             |0             |0%\n",
    "\n",
    "#Pro score: 1 line --> +30 points (+50 with explanation)\n",
    "#Tip: try to search about sort(), sorted(), and append().\n",
    "#'''\n",
    "#def create_party(party, candidates):\n",
    "#    return suggested_parties\n",
    "\n",
    "#'\\nGRADED CELL 3 (40 points)\\nCreate a function named \"create_party\" that will add the chosen pokémon from graded cell 3 \n",
    "#to the party from graded cell 1.\\nThe function should display all the possible parties while keeping the original members \n",
    "#of the party.\\nNote: A party should only have 6 pokémon.\\n'\n",
    "    \n",
    "#Sample parties using highest level\n",
    "\n",
    "#['Charmander', 'Pidgey', 'Sandshrew', 'Rattata', 'Abra', 'Unown']\n",
    "#['Charmander', 'Pidgey', 'Sandshrew', 'Rattata', 'Abra', 'Magikarp']\n",
    "#['Charmander', 'Pidgey', 'Sandshrew', 'Rattata', 'Abra', 'Feebas']"
   ]
  },
  {
   "cell_type": "code",
   "execution_count": 5,
   "metadata": {},
   "outputs": [
    {
     "name": "stdout",
     "output_type": "stream",
     "text": [
      "['Charmander', 'Pidgey', 'Sandshrew', 'Rattata', 'Abra', 'Unown']\n",
      "['Charmander', 'Pidgey', 'Sandshrew', 'Rattata', 'Abra', 'Magikarp']\n",
      "['Charmander', 'Pidgey', 'Sandshrew', 'Rattata', 'Abra', 'Feebas']\n"
     ]
    }
   ],
   "source": [
    "#Answer for Cell 3\n",
    "party = ['Charmander', 'Pidgey', 'Sandshrew', 'Rattata', 'Abra']\n",
    "reserves = [('Onix',10),('Slowpoke',18),('Dialga',2),('Magikarp',32),('Feebas',22),('Swablu',19),('Regigigas',3),('Unown',50)]\n",
    "\n",
    "reserves.sort()\n",
    "pokemon = [('Unown', 50), ('Magikarp',32), ('Feebas',22)]\n",
    "\n",
    "def create_party(party, candidates):\n",
    "    y = []\n",
    "    \n",
    "    for pokemon3 in pokemon:\n",
    "        suggested_party = party.copy()\n",
    "        suggested_party.append(pokemon3[0])\n",
    "        y.append(suggested_party)    \n",
    "    return y\n",
    "\n",
    "print(*create_party(party, reserves), sep='\\n')"
   ]
  }
 ],
 "metadata": {
  "kernelspec": {
   "display_name": "Python 3",
   "language": "python",
   "name": "python3"
  },
  "language_info": {
   "codemirror_mode": {
    "name": "ipython",
    "version": 3
   },
   "file_extension": ".py",
   "mimetype": "text/x-python",
   "name": "python",
   "nbconvert_exporter": "python",
   "pygments_lexer": "ipython3",
   "version": "3.8.3"
  }
 },
 "nbformat": 4,
 "nbformat_minor": 4
}
