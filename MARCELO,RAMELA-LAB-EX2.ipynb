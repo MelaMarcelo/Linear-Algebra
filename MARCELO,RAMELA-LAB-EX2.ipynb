{
 "cells": [
  {
   "cell_type": "code",
   "execution_count": 1,
   "metadata": {},
   "outputs": [],
   "source": [
    "#Linear Algebra (CpE210A)\n",
    "#Laboratory 2: Plotting Vectors using NumPy and MatPlotLib\n",
    "    \n",
    "#Coded and submitted by: Marcelo, Ramela Jean F.\n",
    "#Section:58011"
   ]
  },
  {
   "cell_type": "code",
   "execution_count": null,
   "metadata": {},
   "outputs": [],
   "source": [
    "import numpy as np                               ##Declaration\n",
    "import matplotlib.pyplot as plt\n",
    "import matplotlib\n",
    "\n",
    "%matplotlib inline"
   ]
  },
  {
   "cell_type": "code",
   "execution_count": 2,
   "metadata": {},
   "outputs": [],
   "source": [
    "def eagle_kinematics(s, t):                      ## Define the distance and time as an array\n",
    "    req_shape = 4                                ## It is set to 4\n",
    "    v = np.zeros((req_shape-1,))                 ## Dimension is deducted by 1\n",
    "    a = np.zeros((req_shape-2,))                 ## Dimension is deducted by 2\n",
    "    t_vect = np.array([t**3, t**2, t, 1])        ## Create and set the array formula and multiplier\n",
    "    if s.shape == (req_shape,):  \n",
    "        v = np.array([3*s[0],2*s[1], s[2]])      ## Create an array for velocity and multiply each array by 3,2 and 1\n",
    "        a = np.array([2*v[0],v[1]])              ## Create an array for acceleration and multiply each array by 2 and 1\n",
    "        s_t = np.sum(np.multiply(s, t_vect))     ## formula for s_t\n",
    "        v_t = np.sum(np.multiply(v, t_vect[1:])) ## formula for v_t\n",
    "        a_t = np.sum(np.multiply(a, t_vect[2:])) ## formula for a_t\n",
    "        \n",
    "    else:\n",
    "        print(f'Input displacement vector is not valid. Make sure that the vector shape is ({req_shape},)') \n",
    "        ## Above shown was the error if this is not valid\n",
    "    \n",
    "    return s_t, v_t , a_t ## This is to show the vector output"
   ]
  },
  {
   "cell_type": "code",
   "execution_count": 3,
   "metadata": {},
   "outputs": [
    {
     "data": {
      "text/plain": [
       "(28, 31, 26)"
      ]
     },
     "execution_count": 3,
     "metadata": {},
     "output_type": "execute_result"
    }
   ],
   "source": [
    "x = np.array([2,1,3,2]) # included in \"req_shape\" the number of the array should be the same\n",
    "t = 2\n",
    "eagle_kinematics(x, t)"
   ]
  },
  {
   "cell_type": "code",
   "execution_count": null,
   "metadata": {},
   "outputs": [],
   "source": []
  }
 ],
 "metadata": {
  "kernelspec": {
   "display_name": "Python 3",
   "language": "python",
   "name": "python3"
  },
  "language_info": {
   "codemirror_mode": {
    "name": "ipython",
    "version": 3
   },
   "file_extension": ".py",
   "mimetype": "text/x-python",
   "name": "python",
   "nbconvert_exporter": "python",
   "pygments_lexer": "ipython3",
   "version": "3.8.3"
  }
 },
 "nbformat": 4,
 "nbformat_minor": 4
}
