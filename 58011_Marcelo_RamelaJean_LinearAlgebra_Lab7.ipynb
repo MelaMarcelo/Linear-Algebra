{
  "nbformat": 4,
  "nbformat_minor": 0,
  "metadata": {
    "colab": {
      "name": "58011_Marcelo_RamelaJean_LinearAlgebra_Lab7",
      "provenance": [],
      "collapsed_sections": []
    },
    "kernelspec": {
      "name": "python3",
      "display_name": "Python 3"
    }
  },
  "cells": [
    {
      "cell_type": "markdown",
      "metadata": {
        "id": "9mECaLfZYvIj"
      },
      "source": [
        "#**Linear Algebra for CpE**\n",
        "##**Laboratory 7 : Matrix Operations**\n",
        "Now that you have a fundamental knowledge about representing and operating with vectors as well as the fundamentals of matrices, we'll try to the same operations with matrices and even more.\n",
        "\n",
        "###**Objectives**\n",
        "At the end of this activity you will be able to:\n",
        "\n",
        "Be familiar with the fundamental matrix operations.\n",
        "Apply the operations to solve intemrediate equations.\n",
        "Apply matrix algebra in engineering solutions. <br>\n",
        "\n",
        "##**Discussion**"
      ]
    },
    {
      "cell_type": "code",
      "metadata": {
        "id": "YJKZEKycZ8Yl"
      },
      "source": [
        "import numpy as np\n",
        "import matplotlib.pyplot as plt\n",
        "%matplotlib inline"
      ],
      "execution_count": null,
      "outputs": []
    },
    {
      "cell_type": "markdown",
      "metadata": {
        "id": "Dq6q0hOUaCLl"
      },
      "source": [
        "##**Transposition**\n",
        "One of the fundamental operations in matrix algebra is Transposition. The transpose of a matrix is done by flipping the values of its elements over its diagonals. With this, the rows and columns from the original matrix will be switched. So for a matrix $A$ its transpose is denoted as $A^T$. So for example:\n",
        "\n",
        "$$A = \\begin{bmatrix} 1 & 2 & 5\\\\5 & -1 &0 \\\\ 0 & -3 & 3\\end{bmatrix} $$ <br>\n",
        "$$ A^T = \\begin{bmatrix} 1 & 5 & 0\\\\2 & -1 &-3 \\\\ 5 & 0 & 3\\end{bmatrix}$$ <br>\n",
        "This can now be achieved programmatically by using np.transpose() or using the T method."
      ]
    },
    {
      "cell_type": "code",
      "metadata": {
        "id": "GWg1bqspaaib",
        "colab": {
          "base_uri": "https://localhost:8080/",
          "height": 66
        },
        "outputId": "361a4fb3-ce1f-40d3-a3d5-c2a3630b9ef8"
      },
      "source": [
        "A = np.array([\n",
        "    [1 ,2, 5],\n",
        "    [5, -1, 0],\n",
        "    [0, -3, 3]\n",
        "])\n",
        "A"
      ],
      "execution_count": null,
      "outputs": [
        {
          "output_type": "execute_result",
          "data": {
            "text/plain": [
              "array([[ 1,  2,  5],\n",
              "       [ 5, -1,  0],\n",
              "       [ 0, -3,  3]])"
            ]
          },
          "metadata": {
            "tags": []
          },
          "execution_count": 2
        }
      ]
    },
    {
      "cell_type": "code",
      "metadata": {
        "id": "TMHRGh1FasY-"
      },
      "source": [
        "AT1 = np.transpose(A)"
      ],
      "execution_count": null,
      "outputs": []
    },
    {
      "cell_type": "code",
      "metadata": {
        "id": "yfx45ZwfavM4"
      },
      "source": [
        "AT2 = A.T"
      ],
      "execution_count": null,
      "outputs": []
    },
    {
      "cell_type": "code",
      "metadata": {
        "id": "GTy6X_X4azFg",
        "colab": {
          "base_uri": "https://localhost:8080/",
          "height": 33
        },
        "outputId": "2bce8e5d-fe11-4e1d-c82e-c4f3af2d09c6"
      },
      "source": [
        "np.array_equiv(AT1, AT2)"
      ],
      "execution_count": null,
      "outputs": [
        {
          "output_type": "execute_result",
          "data": {
            "text/plain": [
              "True"
            ]
          },
          "metadata": {
            "tags": []
          },
          "execution_count": 5
        }
      ]
    },
    {
      "cell_type": "code",
      "metadata": {
        "id": "t-y4Ahm3a18l",
        "colab": {
          "base_uri": "https://localhost:8080/",
          "height": 33
        },
        "outputId": "c57207a4-b830-4fd1-8197-2e0f3f2e8724"
      },
      "source": [
        "B = np.array([\n",
        "    [1,2,3,4],\n",
        "    [1,0,2,1],\n",
        "])\n",
        "B.shape"
      ],
      "execution_count": null,
      "outputs": [
        {
          "output_type": "execute_result",
          "data": {
            "text/plain": [
              "(2, 4)"
            ]
          },
          "metadata": {
            "tags": []
          },
          "execution_count": 6
        }
      ]
    },
    {
      "cell_type": "code",
      "metadata": {
        "id": "WqIVaImBa4Jo",
        "colab": {
          "base_uri": "https://localhost:8080/",
          "height": 33
        },
        "outputId": "8f5eedbd-18fe-4199-fe35-00d3acacb82b"
      },
      "source": [
        "np.transpose(B).shape"
      ],
      "execution_count": null,
      "outputs": [
        {
          "output_type": "execute_result",
          "data": {
            "text/plain": [
              "(4, 2)"
            ]
          },
          "metadata": {
            "tags": []
          },
          "execution_count": 7
        }
      ]
    },
    {
      "cell_type": "code",
      "metadata": {
        "id": "7Qgamw5Fa6gS",
        "colab": {
          "base_uri": "https://localhost:8080/",
          "height": 33
        },
        "outputId": "6661e08a-1519-4445-f7d2-6405a6f58470"
      },
      "source": [
        "B.T.shape"
      ],
      "execution_count": null,
      "outputs": [
        {
          "output_type": "execute_result",
          "data": {
            "text/plain": [
              "(4, 2)"
            ]
          },
          "metadata": {
            "tags": []
          },
          "execution_count": 8
        }
      ]
    },
    {
      "cell_type": "markdown",
      "metadata": {
        "id": "-5gDVPTPa-OV"
      },
      "source": [
        "**Try to create your own matrix (you can try non-squares) to test transposition.**"
      ]
    },
    {
      "cell_type": "code",
      "metadata": {
        "id": "ReavSVHqbDZb"
      },
      "source": [
        "## Try out your code here."
      ],
      "execution_count": null,
      "outputs": []
    },
    {
      "cell_type": "markdown",
      "metadata": {
        "id": "QzBiUFi-bGCS"
      },
      "source": [
        "##**Dot Product / Inner Product**\n",
        "If you recall the dot product from laboratory activity before, we will try to implement the same operation with matrices. In matrix dot product we are going to get the sum of products of the vectors by row-column pairs. So if we have two matrices $X$ and $Y$:\n",
        "\n",
        "$$X = \\begin{bmatrix}x_{(0,0)}&x_{(0,1)}\\\\ x_{(1,0)}&x_{(1,1)}\\end{bmatrix}, Y = \\begin{bmatrix}y_{(0,0)}&y_{(0,1)}\\\\ y_{(1,0)}&y_{(1,1)}\\end{bmatrix}$$\n",
        "The dot product will then be computed as:$$X \\cdot Y= \\begin{bmatrix} x_{(0,0)}*y_{(0,0)} + x_{(0,1)}*y_{(1,0)} & x_{(0,0)}*y_{(0,1)} + x_{(0,1)}*y_{(1,1)} \\\\  x_{(1,0)}*y_{(0,0)} + x_{(1,1)}*y_{(1,0)} & x_{(1,0)}*y_{(0,1)} + x_{(1,1)}*y_{(1,1)}\n",
        "\\end{bmatrix}$$\n",
        "\n",
        "So if we assign values to $X$ and $Y$:$$X = \\begin{bmatrix}1&2\\\\ 0&1\\end{bmatrix}, Y = \\begin{bmatrix}-1&0\\\\ 2&2\\end{bmatrix}$$\n",
        "\n",
        "$$X \\cdot Y= \\begin{bmatrix} 1*-1 + 2*2 & 1*0 + 2*2 \\\\  0*-1 + 1*2 & 0*0 + 1*2 \\end{bmatrix} = \\begin{bmatrix} 3 & 4 \\\\2 & 2 \\end{bmatrix}$$\n",
        "This could be achieved programmatically using np.dot(), np.matmul() or the @ operator."
      ]
    },
    {
      "cell_type": "code",
      "metadata": {
        "id": "kf8ThQHebbA6"
      },
      "source": [
        "X = np.array([\n",
        "    [1,2],\n",
        "    [0,1]\n",
        "])\n",
        "Y = np.array([\n",
        "    [-1,0],\n",
        "    [2,2]\n",
        "])"
      ],
      "execution_count": null,
      "outputs": []
    },
    {
      "cell_type": "code",
      "metadata": {
        "id": "e-WAWIUfbef1",
        "colab": {
          "base_uri": "https://localhost:8080/",
          "height": 50
        },
        "outputId": "791936e4-4dc9-45b9-b1ea-32fc2cc958a5"
      },
      "source": [
        "np.dot(X,Y)"
      ],
      "execution_count": null,
      "outputs": [
        {
          "output_type": "execute_result",
          "data": {
            "text/plain": [
              "array([[3, 4],\n",
              "       [2, 2]])"
            ]
          },
          "metadata": {
            "tags": []
          },
          "execution_count": 10
        }
      ]
    },
    {
      "cell_type": "code",
      "metadata": {
        "id": "Lvn6v4_PbiYt",
        "colab": {
          "base_uri": "https://localhost:8080/",
          "height": 50
        },
        "outputId": "8df2b289-fa1a-4e9d-ca20-69edf4631b6b"
      },
      "source": [
        "X.dot(Y)"
      ],
      "execution_count": null,
      "outputs": [
        {
          "output_type": "execute_result",
          "data": {
            "text/plain": [
              "array([[3, 4],\n",
              "       [2, 2]])"
            ]
          },
          "metadata": {
            "tags": []
          },
          "execution_count": 11
        }
      ]
    },
    {
      "cell_type": "code",
      "metadata": {
        "id": "k3fAyTgQblTc",
        "colab": {
          "base_uri": "https://localhost:8080/",
          "height": 50
        },
        "outputId": "91fe3548-6c29-430d-b050-7f0459596c72"
      },
      "source": [
        "X @ Y"
      ],
      "execution_count": null,
      "outputs": [
        {
          "output_type": "execute_result",
          "data": {
            "text/plain": [
              "array([[3, 4],\n",
              "       [2, 2]])"
            ]
          },
          "metadata": {
            "tags": []
          },
          "execution_count": 12
        }
      ]
    },
    {
      "cell_type": "code",
      "metadata": {
        "id": "4bxFDoSXbneB",
        "colab": {
          "base_uri": "https://localhost:8080/",
          "height": 50
        },
        "outputId": "a86d6533-7244-4f65-b17c-3741a6e724ec"
      },
      "source": [
        "np.matmul(X,Y)"
      ],
      "execution_count": null,
      "outputs": [
        {
          "output_type": "execute_result",
          "data": {
            "text/plain": [
              "array([[3, 4],\n",
              "       [2, 2]])"
            ]
          },
          "metadata": {
            "tags": []
          },
          "execution_count": 13
        }
      ]
    },
    {
      "cell_type": "markdown",
      "metadata": {
        "id": "RirtpddebrRB"
      },
      "source": [
        "In matrix dot products there are additional rules compared with vector dot products. Since vector dot products were just in one dimension there are less restrictions. Since now we are dealing with Rank 2 vectors we need to consider some rules:\n",
        "\n",
        "**Rule 1: The inner dimensions of the two matrices in question must be the same.** <br>\n",
        "So given a matrix $A$ with a shape of $(a,b)$ where $a$ and $b$ are any integers. If we want to do a dot product between $A$ and another matrix $B$, then matrix $B$ should have a shape of $(b,c)$ where $b$ and $c$ are any integers. So for given the following matrices:\n",
        "\n",
        "$$A = \\begin{bmatrix}2&4\\\\5&-2\\\\0&1\\end{bmatrix}, B = \\begin{bmatrix}1&1\\\\3&3\\\\-1&-2\\end{bmatrix}, C = \\begin{bmatrix}0&1&1\\\\1&1&2\\end{bmatrix}$$\n",
        "\n",
        "So in this case $A$ has a shape of $(3,2)$, $B$ has a shape of $(3,2)$ and $C$ has a shape of $(2,3)$. So the only matrix pairs that is eligible to perform dot product is matrices $A \\cdot C$, or $B \\cdot C$."
      ]
    },
    {
      "cell_type": "code",
      "metadata": {
        "id": "oe2s0NOJcQZq",
        "colab": {
          "base_uri": "https://localhost:8080/",
          "height": 66
        },
        "outputId": "a8cf65db-dafe-45f8-e074-f7ad771c79ce"
      },
      "source": [
        "A = np.array([\n",
        "    [2, 4],\n",
        "    [5, -2],\n",
        "    [0, 1]\n",
        "])\n",
        "B = np.array([\n",
        "    [1,1],\n",
        "    [3,3],\n",
        "    [-1,-2]\n",
        "])\n",
        "C = np.array([\n",
        "    [0,1,1],\n",
        "    [1,1,2]\n",
        "])\n",
        "print(A.shape)\n",
        "print(B.shape)\n",
        "print(C.shape)"
      ],
      "execution_count": null,
      "outputs": [
        {
          "output_type": "stream",
          "text": [
            "(3, 2)\n",
            "(3, 2)\n",
            "(2, 3)\n"
          ],
          "name": "stdout"
        }
      ]
    },
    {
      "cell_type": "code",
      "metadata": {
        "id": "LmWuSMsQcTYB",
        "colab": {
          "base_uri": "https://localhost:8080/",
          "height": 66
        },
        "outputId": "aaed70a5-284a-49d1-8ce7-9adc1058b78b"
      },
      "source": [
        "A @ C"
      ],
      "execution_count": null,
      "outputs": [
        {
          "output_type": "execute_result",
          "data": {
            "text/plain": [
              "array([[ 4,  6, 10],\n",
              "       [-2,  3,  1],\n",
              "       [ 1,  1,  2]])"
            ]
          },
          "metadata": {
            "tags": []
          },
          "execution_count": 15
        }
      ]
    },
    {
      "cell_type": "code",
      "metadata": {
        "id": "jCn2QWHqcWuY",
        "colab": {
          "base_uri": "https://localhost:8080/",
          "height": 66
        },
        "outputId": "093eea7c-3bc8-4f91-c0c4-36cb49a7dbef"
      },
      "source": [
        "B @ C"
      ],
      "execution_count": null,
      "outputs": [
        {
          "output_type": "execute_result",
          "data": {
            "text/plain": [
              "array([[ 1,  2,  3],\n",
              "       [ 3,  6,  9],\n",
              "       [-2, -3, -5]])"
            ]
          },
          "metadata": {
            "tags": []
          },
          "execution_count": 16
        }
      ]
    },
    {
      "cell_type": "markdown",
      "metadata": {
        "id": "DIOEhDlLcakz"
      },
      "source": [
        "If you would notice the shape of the dot product changed and its shape is not the same as any of the matrices we used. The shape of a dot product is actually derived from the shapes of the matrices used. So recall matrix $A$ with a shape of $(a,b)$ and matrix $B$ with a shape of $(b,c)$, $A \\cdot B$ should have a shape $(a,c)$."
      ]
    },
    {
      "cell_type": "code",
      "metadata": {
        "id": "tn5PT-hIcedh",
        "colab": {
          "base_uri": "https://localhost:8080/",
          "height": 66
        },
        "outputId": "db9c6f79-8d13-4991-f381-59ca0173ff1b"
      },
      "source": [
        "A @ B.T"
      ],
      "execution_count": null,
      "outputs": [
        {
          "output_type": "execute_result",
          "data": {
            "text/plain": [
              "array([[  6,  18, -10],\n",
              "       [  3,   9,  -1],\n",
              "       [  1,   3,  -2]])"
            ]
          },
          "metadata": {
            "tags": []
          },
          "execution_count": 17
        }
      ]
    },
    {
      "cell_type": "code",
      "metadata": {
        "id": "K8bmZoAocg_A",
        "colab": {
          "base_uri": "https://localhost:8080/",
          "height": 50
        },
        "outputId": "fb1c27f7-a99f-494e-ac9f-538e4bbb4dac"
      },
      "source": [
        "X = np.array([\n",
        "    [1,2,3,0]\n",
        "])\n",
        "Y = np.array([\n",
        "    [1,0,4,-1]\n",
        "])\n",
        "print(X.shape)\n",
        "print(Y.shape)"
      ],
      "execution_count": null,
      "outputs": [
        {
          "output_type": "stream",
          "text": [
            "(1, 4)\n",
            "(1, 4)\n"
          ],
          "name": "stdout"
        }
      ]
    },
    {
      "cell_type": "code",
      "metadata": {
        "id": "BY8y2pencjwd",
        "colab": {
          "base_uri": "https://localhost:8080/",
          "height": 82
        },
        "outputId": "4608bb42-8652-41c1-acf3-3de90bbde333"
      },
      "source": [
        "Y.T @ X"
      ],
      "execution_count": null,
      "outputs": [
        {
          "output_type": "execute_result",
          "data": {
            "text/plain": [
              "array([[ 1,  2,  3,  0],\n",
              "       [ 0,  0,  0,  0],\n",
              "       [ 4,  8, 12,  0],\n",
              "       [-1, -2, -3,  0]])"
            ]
          },
          "metadata": {
            "tags": []
          },
          "execution_count": 19
        }
      ]
    },
    {
      "cell_type": "markdown",
      "metadata": {
        "id": "5CO-4CugcoMT"
      },
      "source": [
        "And youcan see that when you try to multiply A and B, it returns ValueError pertaining to matrix shape mismatch.\n",
        "\n",
        "**Rule 2: Dot Product has special properties**\n",
        "Dot products are prevalent in matrix algebra, this implies that it has several unique properties and it should be considered when formulation solutions:\n",
        "\n",
        "1. $A \\cdot B \\neq B \\cdot A$\n",
        "2. $A \\cdot (B \\cdot C) = (A \\cdot B) \\cdot C$\n",
        "3. $A\\cdot(B+C) = A\\cdot B + A\\cdot C$\n",
        "4. $(B+C)\\cdot A = B\\cdot A + C\\cdot A$\n",
        "5. $A\\cdot I = A$\n",
        "6. $A\\cdot \\emptyset = \\emptyset$ <br>\n",
        "I'll be doing just one of the properties and I'll leave the rest to test your skills!"
      ]
    },
    {
      "cell_type": "code",
      "metadata": {
        "id": "oN2Xt-dRc5r2"
      },
      "source": [
        "A = np.array([\n",
        "    [3,2,1],\n",
        "    [4,5,1],\n",
        "    [1,1,0]\n",
        "])\n",
        "B = np.array([\n",
        "    [4,1,6],\n",
        "    [4,1,9],\n",
        "    [1,4,8]\n",
        "])\n",
        "C = np.array([\n",
        "    [1,1,0],\n",
        "    [0,1,1],\n",
        "    [1,0,1]\n",
        "])"
      ],
      "execution_count": null,
      "outputs": []
    },
    {
      "cell_type": "code",
      "metadata": {
        "id": "g0uIPFyxc8sZ",
        "colab": {
          "base_uri": "https://localhost:8080/",
          "height": 66
        },
        "outputId": "612074b2-93d8-4ab6-dcdb-2f15a8afd696"
      },
      "source": [
        "A.dot(np.zeros(A.shape))"
      ],
      "execution_count": null,
      "outputs": [
        {
          "output_type": "execute_result",
          "data": {
            "text/plain": [
              "array([[0., 0., 0.],\n",
              "       [0., 0., 0.],\n",
              "       [0., 0., 0.]])"
            ]
          },
          "metadata": {
            "tags": []
          },
          "execution_count": 21
        }
      ]
    },
    {
      "cell_type": "code",
      "metadata": {
        "id": "JLz6laL1c_cj",
        "colab": {
          "base_uri": "https://localhost:8080/",
          "height": 66
        },
        "outputId": "3e237cd9-66e3-4d03-a9ee-f1c00a5f5745"
      },
      "source": [
        "z_mat = np.zeros(A.shape)\n",
        "z_mat"
      ],
      "execution_count": null,
      "outputs": [
        {
          "output_type": "execute_result",
          "data": {
            "text/plain": [
              "array([[0., 0., 0.],\n",
              "       [0., 0., 0.],\n",
              "       [0., 0., 0.]])"
            ]
          },
          "metadata": {
            "tags": []
          },
          "execution_count": 22
        }
      ]
    },
    {
      "cell_type": "code",
      "metadata": {
        "id": "Jp1_i9JndB0-",
        "colab": {
          "base_uri": "https://localhost:8080/",
          "height": 66
        },
        "outputId": "22d6a3c9-f2d6-4af6-8e42-8b00cad34234"
      },
      "source": [
        "a_dot_z = A.dot(np.zeros(A.shape))\n",
        "a_dot_z"
      ],
      "execution_count": null,
      "outputs": [
        {
          "output_type": "execute_result",
          "data": {
            "text/plain": [
              "array([[0., 0., 0.],\n",
              "       [0., 0., 0.],\n",
              "       [0., 0., 0.]])"
            ]
          },
          "metadata": {
            "tags": []
          },
          "execution_count": 23
        }
      ]
    },
    {
      "cell_type": "code",
      "metadata": {
        "id": "5epjfS67dD9E",
        "colab": {
          "base_uri": "https://localhost:8080/",
          "height": 33
        },
        "outputId": "6296eb41-3431-4e09-8a7f-c4b5bf713833"
      },
      "source": [
        "np.array_equal(a_dot_z,z_mat)"
      ],
      "execution_count": null,
      "outputs": [
        {
          "output_type": "execute_result",
          "data": {
            "text/plain": [
              "True"
            ]
          },
          "metadata": {
            "tags": []
          },
          "execution_count": 24
        }
      ]
    },
    {
      "cell_type": "code",
      "metadata": {
        "id": "BvmXn3LVdGee",
        "colab": {
          "base_uri": "https://localhost:8080/",
          "height": 82
        },
        "outputId": "33683f66-14f7-41cb-ba9c-d22ba9a0ef8b"
      },
      "source": [
        "null_mat = np.empty(A.shape, dtype=float)\n",
        "null = np.array(null_mat,dtype=float)\n",
        "print(null)\n",
        "np.allclose(a_dot_z,null)"
      ],
      "execution_count": null,
      "outputs": [
        {
          "output_type": "stream",
          "text": [
            "[[0. 0. 0.]\n",
            " [0. 0. 0.]\n",
            " [0. 0. 0.]]\n"
          ],
          "name": "stdout"
        },
        {
          "output_type": "execute_result",
          "data": {
            "text/plain": [
              "True"
            ]
          },
          "metadata": {
            "tags": []
          },
          "execution_count": 25
        }
      ]
    },
    {
      "cell_type": "markdown",
      "metadata": {
        "id": "iANcOM0AdRs3"
      },
      "source": [
        "##**Determinant**\n",
        "A determinant is a scalar value derived from a square matrix. The determinant is a fundamental and important value used in matrix algebra. Although it will not be evident in this laboratory on how it can be used practically, but it will be reatly used in future lessons.\n",
        "\n",
        "The determinant of some matrix $A$ is denoted as $det(A)$ or $|A|$. So let's say $A$ is represented as:$$A = \\begin{bmatrix}a_{(0,0)}&a_{(0,1)}\\\\a_{(1,0)}&a_{(1,1)}\\end{bmatrix}$$We can compute for the determinant as:$$|A| = a_{(0,0)}*a_{(1,1)} - a_{(1,0)}*a_{(0,1)}$$So if we have $A$ as:$$A = \\begin{bmatrix}1&4\\\\0&3\\end{bmatrix}, |A| = 3$$\n",
        "\n",
        "But you might wonder how about square matrices beyond the shape $(2,2)$? We can approach this problem by using several methods such as co-factor expansion and the minors method. This can be taught in the lecture of the laboratory but we can achieve the strenuous computation of high-dimensional matrices programmatically using Python. We can achieve this by using np.linalg.det()."
      ]
    },
    {
      "cell_type": "code",
      "metadata": {
        "id": "2nlmWtQtdmxt",
        "colab": {
          "base_uri": "https://localhost:8080/",
          "height": 33
        },
        "outputId": "8b0af344-f29e-4900-ae9f-fbb95db1457e"
      },
      "source": [
        "A = np.array([\n",
        "    [1,4],\n",
        "    [0,3]\n",
        "])\n",
        "np.linalg.det(A)"
      ],
      "execution_count": null,
      "outputs": [
        {
          "output_type": "execute_result",
          "data": {
            "text/plain": [
              "3.0000000000000004"
            ]
          },
          "metadata": {
            "tags": []
          },
          "execution_count": 26
        }
      ]
    },
    {
      "cell_type": "code",
      "metadata": {
        "id": "0xRopnRqdpRF",
        "colab": {
          "base_uri": "https://localhost:8080/",
          "height": 33
        },
        "outputId": "5398aa86-579d-45de-afcc-9e598e15c4b0"
      },
      "source": [
        "## Now other mathematics classes would require you to solve this by hand, \n",
        "## and that is great for practicing your memorization and coordination skills \n",
        "## but in this class we aim for simplicity and speed so we'll use programming\n",
        "## but it's completely fine if you want to try to solve this one by hand.\n",
        "B = np.array([\n",
        "    [1,3,5,6],\n",
        "    [0,3,1,3],\n",
        "    [3,1,8,2],\n",
        "    [5,2,6,8]\n",
        "])\n",
        "np.linalg.det(B)"
      ],
      "execution_count": null,
      "outputs": [
        {
          "output_type": "execute_result",
          "data": {
            "text/plain": [
              "-235.0000000000002"
            ]
          },
          "metadata": {
            "tags": []
          },
          "execution_count": 27
        }
      ]
    },
    {
      "cell_type": "markdown",
      "metadata": {
        "id": "y36J7KVLdsWK"
      },
      "source": [
        "##**Inverse**\n",
        "The inverse of a matrix is another fundamental operation in matrix algebra. Determining the inverse of a matrix let us determine if its solvability and its characteristic as a system of linear equation — we'll expand on this in the nect module. Another use of the inverse matrix is solving the problem of divisibility between matrices. Although element-wise division exists but dividing the entire concept of matrices does not exists. Inverse matrices provides a related operation that could have the same concept of \"dividing\" matrices.\n",
        "\n",
        "Now to determine the inverse of a matrix we need to perform several steps. So let's say we have a matrix $M$:\n",
        "$$M = \\begin{bmatrix}1&7\\\\-3&5\\end{bmatrix}$$\n",
        "First, we need to get the determinant of $M$.\n",
        "$$|M| = (1)(5)-(-3)(7) = 26$$\n",
        "Next, we need to reform the matrix into the inverse form:\n",
        "$$M^{-1} = \\frac{1}{|M|} \\begin{bmatrix} m_{(1,1)} & -m_{(0,1)} \\\\ -m_{(1,0)} & m_{(0,0)}\\end{bmatrix}$$\n",
        "So that will be:\n",
        "$$M^{-1} = \\frac{1}{26} \\begin{bmatrix} 5 & -7 \\\\ 3 & 1\\end{bmatrix} = $$\\begin{bmatrix} \\frac{5}{26} & \\frac{-7}{26} \\\\ \\frac{3}{26} & \\frac{1}{26}\\end{bmatrix}$$\n",
        "For higher-dimension matrices you might need to use co-factors, minors, adjugates, and other reduction techinques. To solve this programmatially we can use np.linalg.inv()."
      ]
    },
    {
      "cell_type": "code",
      "metadata": {
        "id": "dSJJfPwLf_k6",
        "colab": {
          "base_uri": "https://localhost:8080/",
          "height": 50
        },
        "outputId": "d0ccc9fe-6783-4155-a1c5-950049ea7a18"
      },
      "source": [
        "M = np.array([\n",
        "    [1,7],\n",
        "    [-3, 5]\n",
        "])\n",
        "\n",
        "np.array(M @ np.linalg.inv(M), dtype=int)"
      ],
      "execution_count": null,
      "outputs": [
        {
          "output_type": "execute_result",
          "data": {
            "text/plain": [
              "array([[1, 0],\n",
              "       [0, 1]])"
            ]
          },
          "metadata": {
            "tags": []
          },
          "execution_count": 28
        }
      ]
    },
    {
      "cell_type": "code",
      "metadata": {
        "id": "F0poPfwPgC35",
        "colab": {
          "base_uri": "https://localhost:8080/",
          "height": 131
        },
        "outputId": "c943db8f-aa1e-4fac-fff3-04cb4293b751"
      },
      "source": [
        "## And now let's test your skills in solving a matrix with high dimensions:\n",
        "N = np.array([\n",
        "    [18,5,23,1,0,33,5],\n",
        "    [0,45,0,11,2,4,2],\n",
        "    [5,9,20,0,0,0,3],\n",
        "    [1,6,4,4,8,43,1],\n",
        "    [8,6,8,7,1,6,1],\n",
        "    [-5,15,2,0,0,6,-30],\n",
        "    [-2,-5,1,2,1,20,12],\n",
        "])\n",
        "N_inv = np.linalg.inv(N)\n",
        "np.array(N @ N_inv,dtype=int)"
      ],
      "execution_count": null,
      "outputs": [
        {
          "output_type": "execute_result",
          "data": {
            "text/plain": [
              "array([[0, 0, 0, 0, 0, 0, 0],\n",
              "       [0, 0, 0, 0, 0, 0, 0],\n",
              "       [0, 0, 1, 0, 0, 0, 0],\n",
              "       [0, 0, 0, 1, 0, 0, 0],\n",
              "       [0, 0, 0, 0, 0, 0, 0],\n",
              "       [0, 0, 0, 0, 0, 0, 0],\n",
              "       [0, 0, 0, 0, 0, 0, 0]])"
            ]
          },
          "metadata": {
            "tags": []
          },
          "execution_count": 31
        }
      ]
    },
    {
      "cell_type": "markdown",
      "metadata": {
        "id": "60ExufGfgSdN"
      },
      "source": [
        "To validate the weather if the matric that you have solved is really the inverse, we follow this dot product property for a matrix $M$:$$M\\cdot M^{-1} = I$$"
      ]
    },
    {
      "cell_type": "code",
      "metadata": {
        "id": "iEEZlkQwgwpF",
        "colab": {
          "base_uri": "https://localhost:8080/",
          "height": 66
        },
        "outputId": "a265aa89-3242-449d-9b5f-d78547f7d614"
      },
      "source": [
        "squad = np.array([\n",
        "    [1.0, 1.0, 0.5],\n",
        "    [0.7, 0.7, 0.9],\n",
        "    [0.3, 0.3, 1.0]\n",
        "])\n",
        "weights = np.array([\n",
        "    [0.2, 0.2, 0.6]\n",
        "])\n",
        "p_grade = squad @ weights.T\n",
        "p_grade"
      ],
      "execution_count": null,
      "outputs": [
        {
          "output_type": "execute_result",
          "data": {
            "text/plain": [
              "array([[0.7 ],\n",
              "       [0.82],\n",
              "       [0.72]])"
            ]
          },
          "metadata": {
            "tags": []
          },
          "execution_count": 32
        }
      ]
    },
    {
      "cell_type": "markdown",
      "metadata": {
        "id": "VN32K4ghgzmr"
      },
      "source": [
        "##**Activity**\n",
        "**Task 1** <br>\n",
        "Prove and implement the remaining 6 matrix multiplication properties. You may create your own matrices in which their shapes should not be lower than $(3,3)$. In your methodology, create individual flowcharts for each property and discuss the property you would then present your proofs or validity of your implementation in the results section by comparing your result to present functions from NumPy."
      ]
    },
    {
      "cell_type": "code",
      "metadata": {
        "id": "BmWvNVomHvNq"
      },
      "source": [
        "import numpy as np\n",
        "import matplotlib.pyplot as plt\n",
        "%matplotlib inline"
      ],
      "execution_count": null,
      "outputs": []
    },
    {
      "cell_type": "code",
      "metadata": {
        "id": "sbPGAC2yg_oM",
        "colab": {
          "base_uri": "https://localhost:8080/",
          "height": 66
        },
        "outputId": "63c0705c-17ef-4dc6-83af-6c92d13a6215"
      },
      "source": [
        "A = np.array([\n",
        "    [3,2,1],\n",
        "    [4,5,1],\n",
        "    [1,1,0]\n",
        "])\n",
        "B = np.array([\n",
        "    [4,1,6],\n",
        "    [4,1,9],\n",
        "    [1,4,8]\n",
        "])\n",
        "C = np.array([\n",
        "    [1,1,0],\n",
        "    [0,1,1],\n",
        "    [1,0,1]\n",
        "])\n",
        "print(A.shape)\n",
        "print(B.shape)\n",
        "print(C.shape)"
      ],
      "execution_count": null,
      "outputs": [
        {
          "output_type": "stream",
          "text": [
            "(3, 3)\n",
            "(3, 3)\n",
            "(3, 3)\n"
          ],
          "name": "stdout"
        }
      ]
    },
    {
      "cell_type": "markdown",
      "metadata": {
        "id": "YGNV6mRMHHsU"
      },
      "source": [
        "**1. $A \\cdot B \\neq B \\cdot A$**"
      ]
    },
    {
      "cell_type": "code",
      "metadata": {
        "id": "dipDTh1PhAYt",
        "colab": {
          "base_uri": "https://localhost:8080/",
          "height": 66
        },
        "outputId": "ae4be147-16b6-4870-bd38-4cd45d8755fb"
      },
      "source": [
        "# A x B\n",
        "np.dot(A,B)"
      ],
      "execution_count": null,
      "outputs": [
        {
          "output_type": "execute_result",
          "data": {
            "text/plain": [
              "array([[21,  9, 44],\n",
              "       [37, 13, 77],\n",
              "       [ 8,  2, 15]])"
            ]
          },
          "metadata": {
            "tags": []
          },
          "execution_count": 24
        }
      ]
    },
    {
      "cell_type": "code",
      "metadata": {
        "id": "qQz_pPz6hAxc",
        "colab": {
          "base_uri": "https://localhost:8080/",
          "height": 66
        },
        "outputId": "2db4715e-457c-4d44-a346-d350f2d4fdf3"
      },
      "source": [
        "# B x A\n",
        "np.dot(B,A)"
      ],
      "execution_count": null,
      "outputs": [
        {
          "output_type": "execute_result",
          "data": {
            "text/plain": [
              "array([[22, 19,  5],\n",
              "       [25, 22,  5],\n",
              "       [27, 30,  5]])"
            ]
          },
          "metadata": {
            "tags": []
          },
          "execution_count": 25
        }
      ]
    },
    {
      "cell_type": "markdown",
      "metadata": {
        "id": "zzKGK1U_IMr8"
      },
      "source": [
        "**2. $A \\cdot (B \\cdot C) = (A \\cdot B) \\cdot C$**"
      ]
    },
    {
      "cell_type": "code",
      "metadata": {
        "id": "yu0hnjRNhB8m",
        "colab": {
          "base_uri": "https://localhost:8080/",
          "height": 66
        },
        "outputId": "3646a8e5-dbbc-4329-fb54-cac55ed82652"
      },
      "source": [
        "# A x (B x C) , first I multiply B to C and declared it x\n",
        "x = np.dot(B,C)\n",
        "x"
      ],
      "execution_count": null,
      "outputs": [
        {
          "output_type": "execute_result",
          "data": {
            "text/plain": [
              "array([[10,  5,  7],\n",
              "       [13,  5, 10],\n",
              "       [ 9,  5, 12]])"
            ]
          },
          "metadata": {
            "tags": []
          },
          "execution_count": 59
        }
      ]
    },
    {
      "cell_type": "code",
      "metadata": {
        "id": "KTbnPLSohCRR",
        "colab": {
          "base_uri": "https://localhost:8080/",
          "height": 66
        },
        "outputId": "0f881a35-fece-425a-de1f-2ab7079d2a5d"
      },
      "source": [
        "#then multiply A to BC/x\n",
        "#answer for A x (B x C)\n",
        "np.dot(A,x)"
      ],
      "execution_count": null,
      "outputs": [
        {
          "output_type": "execute_result",
          "data": {
            "text/plain": [
              "array([[ 65,  30,  53],\n",
              "       [114,  50,  90],\n",
              "       [ 23,  10,  17]])"
            ]
          },
          "metadata": {
            "tags": []
          },
          "execution_count": 60
        }
      ]
    },
    {
      "cell_type": "code",
      "metadata": {
        "id": "g60c0sqnT6qJ",
        "colab": {
          "base_uri": "https://localhost:8080/",
          "height": 66
        },
        "outputId": "8df6f323-e7c9-43dc-9066-4bae344bcad9"
      },
      "source": [
        "# (A x B) x C , first I multiply A to B and declared it y\n",
        "y = np.dot(A,B)\n",
        "y"
      ],
      "execution_count": null,
      "outputs": [
        {
          "output_type": "execute_result",
          "data": {
            "text/plain": [
              "array([[21,  9, 44],\n",
              "       [37, 13, 77],\n",
              "       [ 8,  2, 15]])"
            ]
          },
          "metadata": {
            "tags": []
          },
          "execution_count": 61
        }
      ]
    },
    {
      "cell_type": "code",
      "metadata": {
        "id": "zB9xkJoPUDO3",
        "colab": {
          "base_uri": "https://localhost:8080/",
          "height": 66
        },
        "outputId": "7d7c516d-90ca-4bad-94b3-0d9707772196"
      },
      "source": [
        "#then multiply AB/y to C\n",
        "#answer for (A x B) x C\n",
        "np.dot(y,C)"
      ],
      "execution_count": null,
      "outputs": [
        {
          "output_type": "execute_result",
          "data": {
            "text/plain": [
              "array([[ 65,  30,  53],\n",
              "       [114,  50,  90],\n",
              "       [ 23,  10,  17]])"
            ]
          },
          "metadata": {
            "tags": []
          },
          "execution_count": 31
        }
      ]
    },
    {
      "cell_type": "markdown",
      "metadata": {
        "id": "Pm6NxCy4IjoD"
      },
      "source": [
        "**3. $A\\cdot(B+C) = A\\cdot B + A\\cdot C$**"
      ]
    },
    {
      "cell_type": "code",
      "metadata": {
        "id": "A17yXqoThDgG",
        "colab": {
          "base_uri": "https://localhost:8080/",
          "height": 66
        },
        "outputId": "6f1cb966-5017-488b-8cc5-d2dcfce4e3cd"
      },
      "source": [
        "# A x (B + C) , first I will add B to C and declared it a\n",
        "a = np.add(B,C)\n",
        "a"
      ],
      "execution_count": null,
      "outputs": [
        {
          "output_type": "execute_result",
          "data": {
            "text/plain": [
              "array([[ 5,  2,  6],\n",
              "       [ 4,  2, 10],\n",
              "       [ 2,  4,  9]])"
            ]
          },
          "metadata": {
            "tags": []
          },
          "execution_count": 62
        }
      ]
    },
    {
      "cell_type": "code",
      "metadata": {
        "id": "W5NrhIOaIohw",
        "colab": {
          "base_uri": "https://localhost:8080/",
          "height": 66
        },
        "outputId": "4a30cc3b-570b-485f-bcb6-8bd5702428d6"
      },
      "source": [
        "#then multiply A to BC/a and declared it b\n",
        "#answer for A x (B + C)\n",
        "b = np.dot(A,a)\n",
        "b"
      ],
      "execution_count": null,
      "outputs": [
        {
          "output_type": "execute_result",
          "data": {
            "text/plain": [
              "array([[25, 14, 47],\n",
              "       [42, 22, 83],\n",
              "       [ 9,  4, 16]])"
            ]
          },
          "metadata": {
            "tags": []
          },
          "execution_count": 63
        }
      ]
    },
    {
      "cell_type": "code",
      "metadata": {
        "id": "M-fG7pEZbkh7",
        "colab": {
          "base_uri": "https://localhost:8080/",
          "height": 66
        },
        "outputId": "b67d2d91-291c-4364-fb50-368d9ea338e2"
      },
      "source": [
        "# A x B + A x C , first I will multiply A to B and declared it c\n",
        "#answer for A x B\n",
        "c = np.dot(A, B)\n",
        "c"
      ],
      "execution_count": null,
      "outputs": [
        {
          "output_type": "execute_result",
          "data": {
            "text/plain": [
              "array([[21,  9, 44],\n",
              "       [37, 13, 77],\n",
              "       [ 8,  2, 15]])"
            ]
          },
          "metadata": {
            "tags": []
          },
          "execution_count": 64
        }
      ]
    },
    {
      "cell_type": "code",
      "metadata": {
        "id": "lGF_Irr5cfOj",
        "colab": {
          "base_uri": "https://localhost:8080/",
          "height": 66
        },
        "outputId": "fc06e898-4edd-4328-f56d-a6ec9a740210"
      },
      "source": [
        "# then multiply A to C and declared it d\n",
        "#answer for A x C\n",
        "d = np.dot(A, C)\n",
        "d"
      ],
      "execution_count": null,
      "outputs": [
        {
          "output_type": "execute_result",
          "data": {
            "text/plain": [
              "array([[4, 5, 3],\n",
              "       [5, 9, 6],\n",
              "       [1, 2, 1]])"
            ]
          },
          "metadata": {
            "tags": []
          },
          "execution_count": 65
        }
      ]
    },
    {
      "cell_type": "code",
      "metadata": {
        "id": "C3-q99Wbdy9H",
        "colab": {
          "base_uri": "https://localhost:8080/",
          "height": 66
        },
        "outputId": "f7f2dd6a-0da3-47f9-b6ff-f6463da8d528"
      },
      "source": [
        "# Add the two matrix , AB/c to AC/d\n",
        "#answer for A x B + A x C\n",
        "np.add(c,d)"
      ],
      "execution_count": null,
      "outputs": [
        {
          "output_type": "execute_result",
          "data": {
            "text/plain": [
              "array([[25, 14, 47],\n",
              "       [42, 22, 83],\n",
              "       [ 9,  4, 16]])"
            ]
          },
          "metadata": {
            "tags": []
          },
          "execution_count": 55
        }
      ]
    },
    {
      "cell_type": "markdown",
      "metadata": {
        "id": "WR8zs7ECIo9q"
      },
      "source": [
        "**4. $(B+C)\\cdot A = B\\cdot A + C\\cdot A$**"
      ]
    },
    {
      "cell_type": "code",
      "metadata": {
        "id": "jiAfT_gLIty7",
        "colab": {
          "base_uri": "https://localhost:8080/",
          "height": 66
        },
        "outputId": "00e15f9e-ae1e-41bd-9b88-588aca866549"
      },
      "source": [
        "# (B + C) x A , first I will add B to C and declare it f\n",
        "#answer for (B + C)\n",
        "f = np.add(B,C)\n",
        "f"
      ],
      "execution_count": null,
      "outputs": [
        {
          "output_type": "execute_result",
          "data": {
            "text/plain": [
              "array([[ 5,  2,  6],\n",
              "       [ 4,  2, 10],\n",
              "       [ 2,  4,  9]])"
            ]
          },
          "metadata": {
            "tags": []
          },
          "execution_count": 66
        }
      ]
    },
    {
      "cell_type": "code",
      "metadata": {
        "id": "1oKPQTDDIt_z",
        "colab": {
          "base_uri": "https://localhost:8080/",
          "height": 66
        },
        "outputId": "9eccda45-0d16-4643-e273-6fe8b8495dcf"
      },
      "source": [
        "# then multiply BC/f to A\n",
        "# answer for (B + C) x A\n",
        "np.dot(f,A)"
      ],
      "execution_count": null,
      "outputs": [
        {
          "output_type": "execute_result",
          "data": {
            "text/plain": [
              "array([[29, 26,  7],\n",
              "       [30, 28,  6],\n",
              "       [31, 33,  6]])"
            ]
          },
          "metadata": {
            "tags": []
          },
          "execution_count": 68
        }
      ]
    },
    {
      "cell_type": "code",
      "metadata": {
        "id": "TMXlIVTXkrOu",
        "colab": {
          "base_uri": "https://localhost:8080/",
          "height": 66
        },
        "outputId": "e1099901-4d7f-46b4-826c-2b568f1f7552"
      },
      "source": [
        "# B x A + C x A , First I multiply B to A and declare it g\n",
        "#answer for B x A\n",
        "g = np.dot(B,A)\n",
        "g"
      ],
      "execution_count": null,
      "outputs": [
        {
          "output_type": "execute_result",
          "data": {
            "text/plain": [
              "array([[22, 19,  5],\n",
              "       [25, 22,  5],\n",
              "       [27, 30,  5]])"
            ]
          },
          "metadata": {
            "tags": []
          },
          "execution_count": 67
        }
      ]
    },
    {
      "cell_type": "code",
      "metadata": {
        "id": "_Fxyeq4mlGq1",
        "colab": {
          "base_uri": "https://localhost:8080/",
          "height": 66
        },
        "outputId": "54f77a8e-cb22-4fdd-aad4-c4bab7eb9c96"
      },
      "source": [
        "# then multiply C to A and declare it h\n",
        "#answer for C x A\n",
        "h = np.dot(C,A)\n",
        "h"
      ],
      "execution_count": null,
      "outputs": [
        {
          "output_type": "execute_result",
          "data": {
            "text/plain": [
              "array([[7, 7, 2],\n",
              "       [5, 6, 1],\n",
              "       [4, 3, 1]])"
            ]
          },
          "metadata": {
            "tags": []
          },
          "execution_count": 69
        }
      ]
    },
    {
      "cell_type": "code",
      "metadata": {
        "id": "5DKacZpdl2hj",
        "colab": {
          "base_uri": "https://localhost:8080/",
          "height": 66
        },
        "outputId": "edf532e5-06a1-4740-b1b6-8b56ec4a32b8"
      },
      "source": [
        "# and the add the 2 matrix BA/g to CA/h\n",
        "np.add(g,h)"
      ],
      "execution_count": null,
      "outputs": [
        {
          "output_type": "execute_result",
          "data": {
            "text/plain": [
              "array([[29, 26,  7],\n",
              "       [30, 28,  6],\n",
              "       [31, 33,  6]])"
            ]
          },
          "metadata": {
            "tags": []
          },
          "execution_count": 70
        }
      ]
    },
    {
      "cell_type": "markdown",
      "metadata": {
        "id": "TSx2n2vGIuW0"
      },
      "source": [
        "**5. $A\\cdot I = A$**"
      ]
    },
    {
      "cell_type": "code",
      "metadata": {
        "id": "ka-k-KjRIxzT",
        "colab": {
          "base_uri": "https://localhost:8080/",
          "height": 33
        },
        "outputId": "32175d01-233b-45aa-a858-2e34701e7ffb"
      },
      "source": [
        "# First we need to turn A to determinant\n",
        "np.linalg.det(A)"
      ],
      "execution_count": null,
      "outputs": [
        {
          "output_type": "execute_result",
          "data": {
            "text/plain": [
              "-1.9999999999999998"
            ]
          },
          "metadata": {
            "tags": []
          },
          "execution_count": 72
        }
      ]
    },
    {
      "cell_type": "code",
      "metadata": {
        "id": "d1o5uhjCpD2u",
        "colab": {
          "base_uri": "https://localhost:8080/",
          "height": 66
        },
        "outputId": "31b89d7a-bfc9-40f0-e254-a814bed6520a"
      },
      "source": [
        "#then inverse\n",
        "np.array(A @ np.linalg.inv(A), dtype = int)"
      ],
      "execution_count": null,
      "outputs": [
        {
          "output_type": "execute_result",
          "data": {
            "text/plain": [
              "array([[1, 0, 0],\n",
              "       [0, 1, 0],\n",
              "       [0, 0, 1]])"
            ]
          },
          "metadata": {
            "tags": []
          },
          "execution_count": 74
        }
      ]
    },
    {
      "cell_type": "markdown",
      "metadata": {
        "id": "ytExiaxsIzBc"
      },
      "source": [
        "**6. $A\\cdot \\emptyset = \\emptyset$**"
      ]
    },
    {
      "cell_type": "code",
      "metadata": {
        "id": "ebjL3f2ZI3Mq",
        "colab": {
          "base_uri": "https://localhost:8080/",
          "height": 66
        },
        "outputId": "67e41334-2cb6-4470-b252-471e52c8390f"
      },
      "source": [
        "A.dot(np.zeros(A.shape))"
      ],
      "execution_count": null,
      "outputs": [
        {
          "output_type": "execute_result",
          "data": {
            "text/plain": [
              "array([[0., 0., 0.],\n",
              "       [0., 0., 0.],\n",
              "       [0., 0., 0.]])"
            ]
          },
          "metadata": {
            "tags": []
          },
          "execution_count": 9
        }
      ]
    },
    {
      "cell_type": "markdown",
      "metadata": {
        "id": "dTJh5mGlhE9W"
      },
      "source": [
        "##**Conclusion**\n",
        "For your conclusion synthesize the concept and application of the laboratory. Briefly discuss what you have learned and achieved in this activity. Also answer the question: \"how can matrix operations solve problems in healthcare?\"."
      ]
    }
  ]
}