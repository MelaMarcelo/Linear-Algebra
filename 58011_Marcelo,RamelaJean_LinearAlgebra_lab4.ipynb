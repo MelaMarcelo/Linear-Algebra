{
  "nbformat": 4,
  "nbformat_minor": 0,
  "metadata": {
    "colab": {
      "name": "58011_Marcelo,RamelaJean_LinearAlgebra_lab4",
      "provenance": []
    },
    "kernelspec": {
      "name": "python3",
      "display_name": "Python 3"
    }
  },
  "cells": [
    {
      "cell_type": "markdown",
      "metadata": {
        "id": "bo3MTFVjU1HL"
      },
      "source": [
        "#**Linear Algebra for CpE**\n",
        "**Coded and Submitted by: Marcelo, Ramela Jean F.<br>**\n",
        "**Section: 58011**\n",
        "##**Laboratory 4 : Vector Operations**\n",
        "Now that you have a fundamental knowledge about linear combination, we'll try to apply the fundamental operations\n",
        "\n",
        "##**Objectives**\n",
        "At the end of this activity you will be able to:\n",
        "\n",
        "1. Referesh knowledge on vector operations while being familiar with new operations such as products.<br>\n",
        "2. Visualize vector operations.<br>\n",
        "3. Perform vector operations using Python.<br>\n",
        "\n",
        "#**Discussion**"
      ]
    },
    {
      "cell_type": "code",
      "metadata": {
        "id": "wKG9qdBZURB1"
      },
      "source": [
        "import numpy as np\n",
        "import matplotlib.pyplot as plt\n",
        "%matplotlib inline"
      ],
      "execution_count": 1,
      "outputs": []
    },
    {
      "cell_type": "markdown",
      "metadata": {
        "id": "tSojrrqnWrvG"
      },
      "source": [
        "We have dealt with some of the vector operations in the last module, now we will dwell into more operations. In this laboratory, we will tackle addition,multiplication,division and the inner product of a vector.\n",
        "\n",
        "##**Vector Addition** <br>\n",
        "We have encountered vector before especially with your last activity. Vector addition is simply the element-wise addition of the scalar values of the vectors. Let's take the following vectors as a sample:\n",
        "\n",
        "$$A = \\begin{bmatrix}1\\\\2\\\\0\\end{bmatrix}, B= \\begin{bmatrix}3\\\\1\\\\-2 \\end{bmatrix}$$\n",
        "So if do a vector addition of these two vectors we'll get:\n",
        "\n",
        "$$A + B = \\begin{bmatrix}4\\\\3\\\\-2\\end{bmatrix}$$\n",
        "We can progammatically solve this using np.add() or simply using +."
      ]
    },
    {
      "cell_type": "code",
      "metadata": {
        "id": "lSAzoB9qW4Mh"
      },
      "source": [
        "A = np.array([1,2,0])\n",
        "B = np.array([3,1,-2])"
      ],
      "execution_count": 2,
      "outputs": []
    },
    {
      "cell_type": "code",
      "metadata": {
        "id": "hStZ6TEEW7HM",
        "outputId": "921b0306-f038-4d78-b1ad-5abd65a038f7",
        "colab": {
          "base_uri": "https://localhost:8080/"
        }
      },
      "source": [
        "A+B"
      ],
      "execution_count": 3,
      "outputs": [
        {
          "output_type": "execute_result",
          "data": {
            "text/plain": [
              "array([ 4,  3, -2])"
            ]
          },
          "metadata": {
            "tags": []
          },
          "execution_count": 3
        }
      ]
    },
    {
      "cell_type": "code",
      "metadata": {
        "id": "UR1qbD1SW9wx",
        "outputId": "8a01e3ba-0ab3-45f6-98b4-0fb0c5dc10c0",
        "colab": {
          "base_uri": "https://localhost:8080/"
        }
      },
      "source": [
        "np.add(A,B)"
      ],
      "execution_count": 4,
      "outputs": [
        {
          "output_type": "execute_result",
          "data": {
            "text/plain": [
              "array([ 4,  3, -2])"
            ]
          },
          "metadata": {
            "tags": []
          },
          "execution_count": 4
        }
      ]
    },
    {
      "cell_type": "markdown",
      "metadata": {
        "id": "vuxk-lKaXEah"
      },
      "source": [
        "**Vector Subtraction**<br>\n",
        "Vector subtraction is similar to your vector addition but you would need to scale the second vector using a negative scalar that is usuall $-1$. So if we subtract vector $B$ from vector $A$ we get:\n",
        "\n",
        "$$A-B = \\begin{bmatrix}-2\\\\1\\\\2\\end{bmatrix}$$\n",
        "In Python, this can be achieved by using np.subtract() or -"
      ]
    },
    {
      "cell_type": "code",
      "metadata": {
        "id": "og2fd4e9XMTy",
        "outputId": "1f4bba95-803c-4ee6-89d5-fbd2f461cb22",
        "colab": {
          "base_uri": "https://localhost:8080/"
        }
      },
      "source": [
        "np.subtract(A,B)"
      ],
      "execution_count": 5,
      "outputs": [
        {
          "output_type": "execute_result",
          "data": {
            "text/plain": [
              "array([-2,  1,  2])"
            ]
          },
          "metadata": {
            "tags": []
          },
          "execution_count": 5
        }
      ]
    },
    {
      "cell_type": "code",
      "metadata": {
        "id": "wEnOrf2rYroI",
        "outputId": "b0c518f5-d9a2-4d1d-9649-cef647fdfb34",
        "colab": {
          "base_uri": "https://localhost:8080/"
        }
      },
      "source": [
        "A-B"
      ],
      "execution_count": 6,
      "outputs": [
        {
          "output_type": "execute_result",
          "data": {
            "text/plain": [
              "array([-2,  1,  2])"
            ]
          },
          "metadata": {
            "tags": []
          },
          "execution_count": 6
        }
      ]
    },
    {
      "cell_type": "markdown",
      "metadata": {
        "id": "I-I7c5N1Yv9V"
      },
      "source": [
        "##**Vector Multiplication**\n",
        "Vector multiplication, like addition does its operations element-wise. So basic vector multiplication can be achieved by multiplying the elements or the scalars of the vectors individually. So:$$A * B = \\begin{bmatrix}3\\\\2\\\\0\\end{bmatrix}$$We can implement this in code by using np.multiply() or simply operating with *."
      ]
    },
    {
      "cell_type": "code",
      "metadata": {
        "id": "7apDFCnNYvTt",
        "outputId": "7572aa2f-337f-4278-80e2-2c8dadeada60",
        "colab": {
          "base_uri": "https://localhost:8080/"
        }
      },
      "source": [
        "np.multiply(A,B)"
      ],
      "execution_count": 7,
      "outputs": [
        {
          "output_type": "execute_result",
          "data": {
            "text/plain": [
              "array([3, 2, 0])"
            ]
          },
          "metadata": {
            "tags": []
          },
          "execution_count": 7
        }
      ]
    },
    {
      "cell_type": "code",
      "metadata": {
        "id": "-W5b_TdpY41l",
        "outputId": "c36f2052-d442-4d8f-80d0-421c7416d283",
        "colab": {
          "base_uri": "https://localhost:8080/"
        }
      },
      "source": [
        "A*B"
      ],
      "execution_count": 8,
      "outputs": [
        {
          "output_type": "execute_result",
          "data": {
            "text/plain": [
              "array([3, 2, 0])"
            ]
          },
          "metadata": {
            "tags": []
          },
          "execution_count": 8
        }
      ]
    },
    {
      "cell_type": "markdown",
      "metadata": {
        "id": "sUd8E7P7Y7rO"
      },
      "source": [
        "##**Vector Division**\n",
        "Dividing a vector by another is uncommon, but if the situation specifies that each elements or scalars of the vector would be divided individually we can perform this by:$$A./B = \\begin{bmatrix}\\frac{1}{3}\\\\2\\\\0\\end{bmatrix}$$Take note that the notation we used here is $./$ for element-wise division, this notation is based in a MATLab notation for element-wise division. This can be achieved in Python using np.divide() or /."
      ]
    },
    {
      "cell_type": "code",
      "metadata": {
        "id": "pwk17vJZY-iI",
        "outputId": "5611adcf-820a-42d3-bf7d-810c4a2037ef",
        "colab": {
          "base_uri": "https://localhost:8080/"
        }
      },
      "source": [
        "np.divide(A,B)"
      ],
      "execution_count": 9,
      "outputs": [
        {
          "output_type": "execute_result",
          "data": {
            "text/plain": [
              "array([ 0.33333333,  2.        , -0.        ])"
            ]
          },
          "metadata": {
            "tags": []
          },
          "execution_count": 9
        }
      ]
    },
    {
      "cell_type": "code",
      "metadata": {
        "id": "5mWsk_H2ZBKe",
        "outputId": "e4146809-7137-4315-c5fb-c7f065db44c9",
        "colab": {
          "base_uri": "https://localhost:8080/"
        }
      },
      "source": [
        "A/B"
      ],
      "execution_count": 10,
      "outputs": [
        {
          "output_type": "execute_result",
          "data": {
            "text/plain": [
              "array([ 0.33333333,  2.        , -0.        ])"
            ]
          },
          "metadata": {
            "tags": []
          },
          "execution_count": 10
        }
      ]
    },
    {
      "cell_type": "markdown",
      "metadata": {
        "id": "dfa05tqOZDi6"
      },
      "source": [
        "##**Modulus of a Vector**\n",
        "The modulus of a vector or the magnitude of a vector can be determined using the Pythagorean theorem. Given the vector $A$ and its scalars denoted as $a_n$ where $n$ is the index of the scalar. So if we have:$$A = \\begin{bmatrix}1\\\\2\\end{bmatrix}$$We can compute the magnitude as:$$||A|| = \\sqrt{a_1^2 + a_2^2} = \\sqrt{1^2 + 2^2} = \\sqrt{5}$$So if we have a matrix with more parameters such as:$$B=\\begin{bmatrix}2\\\\5\\\\-1\\\\0\\end{bmatrix}$$We can generalize the Pythagorean theorem to compute for the magnitude as:$$||B|| = \\sqrt{b_1^2 + b_2^2 + b_3^2 + ... +b_n^2} = \\sqrt{\\sum_{n=1}^{N}b_n^2}$$And this equation is now called a Euclidian distance or the Euclidean Norm. We can implement this explicitly by for loops or using np.linalg.norm() to get the Euclidian Norm."
      ]
    },
    {
      "cell_type": "code",
      "metadata": {
        "id": "zZwhCGN3ZKG-"
      },
      "source": [
        "A = np.array([1,2])\n",
        "B = np.array([2,5,-1,0])"
      ],
      "execution_count": 11,
      "outputs": []
    },
    {
      "cell_type": "code",
      "metadata": {
        "id": "J9rfRmpWZL6a",
        "outputId": "e4dd4113-7f05-4225-a85e-a72b9a8cedf8",
        "colab": {
          "base_uri": "https://localhost:8080/"
        }
      },
      "source": [
        "np.linalg.norm(A)"
      ],
      "execution_count": 12,
      "outputs": [
        {
          "output_type": "execute_result",
          "data": {
            "text/plain": [
              "2.23606797749979"
            ]
          },
          "metadata": {
            "tags": []
          },
          "execution_count": 12
        }
      ]
    },
    {
      "cell_type": "code",
      "metadata": {
        "id": "isNIVfAHZRPu",
        "outputId": "c18c3b9f-8aef-4715-c05f-70729bdd462d",
        "colab": {
          "base_uri": "https://localhost:8080/"
        }
      },
      "source": [
        "np.linalg.norm(B)"
      ],
      "execution_count": 13,
      "outputs": [
        {
          "output_type": "execute_result",
          "data": {
            "text/plain": [
              "5.477225575051661"
            ]
          },
          "metadata": {
            "tags": []
          },
          "execution_count": 13
        }
      ]
    },
    {
      "cell_type": "markdown",
      "metadata": {
        "id": "Ajd7HTlxZZcB"
      },
      "source": [
        "##**Vector Dot Product / Inner Product**\n",
        "The inner product of a vector is the sum of the products of each elements of the vectors. So given vectors $H$ and $G$ below:$$H=\\begin{bmatrix}1\\\\3\\\\6\\end{bmatrix}, G = \\begin{bmatrix}5\\\\2\\\\1\\end{bmatrix}$$We first take the element-wise product of the vectors:$$H*G = \\begin{bmatrix}5\\\\6\\\\6\\end{bmatrix}$$Then we take the sum of the products, making it the inner product of a vector:$$H\\cdot G = 17$$You can solve for the inner product using an explicit function, np.inner() or the @ operator."
      ]
    },
    {
      "cell_type": "code",
      "metadata": {
        "id": "KR0r0h4BZcGL"
      },
      "source": [
        "H = np.array([1,3,6])\n",
        "G = np.array([5,2,1])"
      ],
      "execution_count": 14,
      "outputs": []
    },
    {
      "cell_type": "code",
      "metadata": {
        "id": "XR3kLVGRZflk",
        "outputId": "bb56c483-5f86-4607-f87a-dc8a9994287a",
        "colab": {
          "base_uri": "https://localhost:8080/"
        }
      },
      "source": [
        "np.inner(H,G)"
      ],
      "execution_count": 15,
      "outputs": [
        {
          "output_type": "execute_result",
          "data": {
            "text/plain": [
              "17"
            ]
          },
          "metadata": {
            "tags": []
          },
          "execution_count": 15
        }
      ]
    },
    {
      "cell_type": "code",
      "metadata": {
        "id": "ib7dvWuUZhzV",
        "outputId": "712faf63-b89e-4439-cc26-76919425e5a5",
        "colab": {
          "base_uri": "https://localhost:8080/"
        }
      },
      "source": [
        "H @ G"
      ],
      "execution_count": 16,
      "outputs": [
        {
          "output_type": "execute_result",
          "data": {
            "text/plain": [
              "17"
            ]
          },
          "metadata": {
            "tags": []
          },
          "execution_count": 16
        }
      ]
    },
    {
      "cell_type": "markdown",
      "metadata": {
        "id": "MDNJmuxCZqB3"
      },
      "source": [
        "#**Activity**<br>\n",
        "**Task 1**<br>\n",
        "Make an explicit function (not using any of NumPy's preset functions) solving the modulus of a vector using the Euclidian Norm formula:$$||X|| = \\sqrt{\\sum_{n=1}^{N}x_n^2}$$Create a program flowchart for your algorithm and explain it in your methodology. Create 6 different vectors which their element count should not be lower than 4 elements. Explain the results at the results discussion section while comparing them to the np.linalg.norm() function."
      ]
    },
    {
      "cell_type": "code",
      "metadata": {
        "id": "FuKShgmfZxpk",
        "outputId": "dd65a8af-503e-4aff-83d7-6b358baa732a",
        "colab": {
          "base_uri": "https://localhost:8080/"
        }
      },
      "source": [
        "def explicit_function(V):\n",
        "  V = np.sqrt(V[0]**2 + V[1]**2 + V[2]**2 + V[3]**2 + V[4]**2)\n",
        "  print(V)\n",
        "\n",
        "a = np.array([1,2,3,4,5])\n",
        "b = np.array([6,7,8,9,10])\n",
        "c = np.array([11,12,13,14,15])\n",
        "d = np.array([15,14,13,12,11])\n",
        "e = np.array([10,9,8,7,6])\n",
        "f = np.array([5,4,3,2,1])\n",
        "\n",
        "print(\"Euclidian Norm Formula for a:\")\n",
        "explicit_function(a)\n",
        "A1 = np.linalg.norm(a)\n",
        "print(\"the np.linalg.norm form of a:\\n\",A1)\n",
        "\n",
        "print(\"\\nEuclidian Norm Formula for b:\")\n",
        "explicit_function(b)\n",
        "A2 = np.linalg.norm(b)\n",
        "print(\"the np.linalg.norm form of b:\\n\",A2)\n",
        "\n",
        "print(\"\\nEuclidian Norm Formula for c:\")\n",
        "explicit_function(c)\n",
        "A3 = np.linalg.norm(c)\n",
        "print(\"the np.linalg.norm form of c:\\n\",A3)\n",
        "\n",
        "print(\"\\nEuclidian Norm Formula for d:\")\n",
        "explicit_function(d)\n",
        "A4 = np.linalg.norm(d)\n",
        "print(\"the np.linalg.norm form of d:\\n\",A4)\n",
        "\n",
        "print(\"\\nEuclidian Norm Formula for e:\")\n",
        "explicit_function(e)\n",
        "A5 = np.linalg.norm(e)\n",
        "print(\"the np.linalg.norm form of e\\n:\",A5)\n",
        "\n",
        "print(\"\\nEuclidian Norm Formula for f:\")\n",
        "explicit_function(f)\n",
        "A6 = np.linalg.norm(f)\n",
        "print(\"the np.linalg.norm form of f:\\n\",A6)"
      ],
      "execution_count": 169,
      "outputs": [
        {
          "output_type": "stream",
          "text": [
            "Euclidian Norm Formula for a:\n",
            "7.416198487095663\n",
            "the np.linalg.norm form of a:\n",
            " 7.416198487095663\n",
            "\n",
            "Euclidian Norm Formula for b:\n",
            "18.16590212458495\n",
            "the np.linalg.norm form of b:\n",
            " 18.16590212458495\n",
            "\n",
            "Euclidian Norm Formula for c:\n",
            "29.24038303442689\n",
            "the np.linalg.norm form of c:\n",
            " 29.24038303442689\n",
            "\n",
            "Euclidian Norm Formula for d:\n",
            "29.24038303442689\n",
            "the np.linalg.norm form of d:\n",
            " 29.24038303442689\n",
            "\n",
            "Euclidian Norm Formula for e:\n",
            "18.16590212458495\n",
            "the np.linalg.norm form of e\n",
            ": 18.16590212458495\n",
            "\n",
            "Euclidian Norm Formula for f:\n",
            "7.416198487095663\n",
            "the np.linalg.norm form of f:\n",
            " 7.416198487095663\n"
          ],
          "name": "stdout"
        }
      ]
    },
    {
      "cell_type": "markdown",
      "metadata": {
        "id": "pnDnVh3uZx6o"
      },
      "source": [
        "**Task 2**<br>\n",
        "Make an explicit function (not using any of NumPy's preset functions nor the @ operator) solving the inner product of two vectors using the inner product formula:$$A\\cdot B = \\sum_{n=1}^{N} a_n \\times b_n $$$$whereas: N = len(A) = len(B)$$Create a program flowchart for your algorithm and explain it in your methodology. Create 5 distinct pairs vectors which their element count should not be lower than 5 elements. Explain the results at the results discussion section while comparing them to the np.inner() function."
      ]
    },
    {
      "cell_type": "code",
      "metadata": {
        "id": "DuDA7ot6Z2wZ",
        "outputId": "20d77fdf-6779-46d8-ca35-a9b2ec0f18de",
        "colab": {
          "base_uri": "https://localhost:8080/"
        }
      },
      "source": [
        "def explicit_functions(x, y):\n",
        "    p = ((x[0]*y[0]) + (x[1]*y[1]) + (x[2]*y[2]) + (x[3]*y[3]) + (x[4]*y[4]))\n",
        "    print(p)\n",
        "  \n",
        "A = np.array([1,2,3,4,5])\n",
        "B = np.array([6,7,8,9,10])\n",
        "\n",
        "C = np.array([11,12,13,14,15])\n",
        "D = np.array([15,14,13,12,11])\n",
        "\n",
        "E = np.array([20,9,8,7,6])\n",
        "F = np.array([5,4,3,2,1])\n",
        "\n",
        "G = np.array([1,22,3,14,5])\n",
        "H = np.array([26,7,18,9,10])\n",
        "\n",
        "I = np.array([11,2,13,14,5])\n",
        "J = np.array([15,4,13,2,11])\n",
        "\n",
        "print(\"Explicit function for A and B:\")\n",
        "explicit_functions(A, B)\n",
        "a = np.inner(A, B)\n",
        "print(\"the np.inner function of A and B:\\n\",a)\n",
        "\n",
        "print(\"\\nExplicit function for C and D:\")\n",
        "explicit_functions(C, D)\n",
        "b = np.inner(C, D)\n",
        "print(\"the np.inner function of C and D:\\n\",b)\n",
        "\n",
        "print(\"\\nExplicit function for E and F:\")\n",
        "explicit_functions(E, F)\n",
        "c = np.inner(E, F)\n",
        "print(\"the np.inner function of E and F:\\n\",c)\n",
        "\n",
        "print(\"\\nExplicit function for G and H:\")\n",
        "explicit_functions(G, H)\n",
        "d = np.inner(G, H)\n",
        "print(\"the np.inner function of G and H:\\n\",d)\n",
        "\n",
        "print(\"\\nExplicit function for I and J:\")\n",
        "explicit_functions(I, J)\n",
        "e = np.inner(I, J)\n",
        "print(\"the np.inner function of I and J:\\n\",e)"
      ],
      "execution_count": 180,
      "outputs": [
        {
          "output_type": "stream",
          "text": [
            "Explicit function for A and B:\n",
            "130\n",
            "the np.inner function of A and B:\n",
            " 130\n",
            "\n",
            "Explicit function for C and D:\n",
            "835\n",
            "the np.inner function of C and D:\n",
            " 835\n",
            "\n",
            "Explicit function for E and F:\n",
            "180\n",
            "the np.inner function of E and F:\n",
            " 180\n",
            "\n",
            "Explicit function for G and H:\n",
            "410\n",
            "the np.inner function of G and H:\n",
            " 410\n",
            "\n",
            "Explicit function for I and J:\n",
            "425\n",
            "the np.inner function of I and J:\n",
            " 425\n"
          ],
          "name": "stdout"
        }
      ]
    },
    {
      "cell_type": "markdown",
      "metadata": {
        "id": "amcOCyQwZ3Ek"
      },
      "source": [
        "**Task 3** <br>\n",
        "Code the following vector operation and solve them using the given vector values\n",
        "\n",
        "$$ ((A^2 + B^2 + C^2) * (A * (B + A*B)./C))*||A + B + C||$$$$A = \\begin{bmatrix}-0.4\\\\0.3\\\\-0.6\\end{bmatrix}, B = \\begin{bmatrix}-0.2\\\\0.2\\\\1\\end{bmatrix}, C = \\begin{bmatrix}0.2\\\\0.1\\\\-0.5\\end{bmatrix}$$\n",
        "Create a program flowchart for your algorithm and explain it in your methodology. In your results, compare your answer to the expected output, visualize, and explain the resulting vector using a 3D plot.\n",
        "\n",
        "Expected answer:\n",
        "array([0.34769805, 1.13001866, 0.6953961 ])"
      ]
    },
    {
      "cell_type": "code",
      "metadata": {
        "id": "Gs5FS5PbaABW"
      },
      "source": [
        "A = np.array([-0.4, 0.3, -0.6])\n",
        "B = np.array([-0.2, 0.2, 1])\n",
        "C = np.array([0.2, 0.1, -0.5])"
      ],
      "execution_count": 90,
      "outputs": []
    },
    {
      "cell_type": "code",
      "metadata": {
        "id": "-571NZZ0_zrM",
        "outputId": "fd8df42e-72ec-4f69-cbe2-44d896bb9b14",
        "colab": {
          "base_uri": "https://localhost:8080/"
        }
      },
      "source": [
        "((A@A+B@B+C@C)*(A*(B+A*B)/C))*np.linalg.norm(A+B+C)"
      ],
      "execution_count": 91,
      "outputs": [
        {
          "output_type": "execute_result",
          "data": {
            "text/plain": [
              "array([0.34769805, 1.13001866, 0.6953961 ])"
            ]
          },
          "metadata": {
            "tags": []
          },
          "execution_count": 91
        }
      ]
    },
    {
      "cell_type": "code",
      "metadata": {
        "id": "R4ViAPfVBImD",
        "outputId": "c82e0515-e216-4645-9c90-e9ab65ca8b26",
        "colab": {
          "base_uri": "https://localhost:8080/",
          "height": 248
        }
      },
      "source": [
        "fig = plt.figure()\n",
        "ax = fig.gca(projection='3d')\n",
        "\n",
        "ax.set_xlim([0, 3])\n",
        "ax.set_ylim([0, 3])\n",
        "ax.set_zlim([0, 3])\n",
        "\n",
        "ax.quiver(0, 0, 0, 0.34769805, 1.13001866, 0.6953961, colors='green')\n",
        "\n",
        "plt.show()"
      ],
      "execution_count": 95,
      "outputs": [
        {
          "output_type": "display_data",
          "data": {
            "image/png": "[encoded data removed]",
            "text/plain": [
              "<Figure size 432x288 with 1 Axes>"
            ]
          },
          "metadata": {
            "tags": [],
            "needs_background": "light"
          }
        }
      ]
    },
    {
      "cell_type": "markdown",
      "metadata": {
        "id": "qhDifT15aAv6"
      },
      "source": [
        "##**Conclusion guide**\n",
        "For your conclusion synthesize the concept and application of the laboratory. Briefly discuss what you have learn and achieved in this activity."
      ]
    }
  ]
}